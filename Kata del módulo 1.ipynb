{
 "cells": [
  {
   "cell_type": "code",
   "execution_count": 2,
   "metadata": {},
   "outputs": [
    {
     "name": "stdout",
     "output_type": "stream",
     "text": [
      "2022-02-09\n"
     ]
    }
   ],
   "source": [
    "#importar biblioteca\n",
    "from datetime import date\n",
    "\n",
    "#obtenemos la fecha de hoy\n",
    "date.today()\n",
    "\n",
    "#Mostramos la fecha en la consola\n",
    "print(date.today())"
   ]
  },
  {
   "cell_type": "markdown",
   "metadata": {},
   "source": [
    "## Primer programa"
   ]
  },
  {
   "cell_type": "code",
   "execution_count": 4,
   "metadata": {},
   "outputs": [
    {
     "name": "stdout",
     "output_type": "stream",
     "text": [
      "La fecha de hoy es 2022-02-09\n"
     ]
    }
   ],
   "source": [
    "print(\"La fecha de hoy es \" +  str(date.today()))"
   ]
  },
  {
   "cell_type": "markdown",
   "metadata": {},
   "source": [
    "## Contruir un convertidor de unidades\n",
    "\n",
    "Construir un programa que permite convertir parsecs en años luz.\n"
   ]
  },
  {
   "cell_type": "code",
   "execution_count": 7,
   "metadata": {},
   "outputs": [
    {
     "name": "stdout",
     "output_type": "stream",
     "text": [
      "11 parsec son 35.877159999999996 años luz\n"
     ]
    }
   ],
   "source": [
    "parsec=11\n",
    "lightyears= 0\n",
    "\n",
    "#parsec= 3.26156\n",
    "lightyears= parsec* 3.26156\n",
    "\n",
    "print(str(parsec) + \" parsec son \"+ str(lightyears)+\" años luz\")"
   ]
  }
 ],
 "metadata": {
  "interpreter": {
   "hash": "21e552788ae826081a56d3566a263f52ea6f4c128a10830506dfaced0e822406"
  },
  "kernelspec": {
   "display_name": "Python 3.10.2 64-bit",
   "language": "python",
   "name": "python3"
  },
  "language_info": {
   "codemirror_mode": {
    "name": "ipython",
    "version": 3
   },
   "file_extension": ".py",
   "mimetype": "text/x-python",
   "name": "python",
   "nbconvert_exporter": "python",
   "pygments_lexer": "ipython3",
   "version": "3.10.2"
  },
  "orig_nbformat": 4
 },
 "nbformat": 4,
 "nbformat_minor": 2
}

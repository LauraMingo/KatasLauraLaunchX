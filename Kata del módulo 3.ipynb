{
 "cells": [
  {
   "cell_type": "markdown",
   "metadata": {},
   "source": [
    "## Ejercicio número 1.\n",
    "\n",
    "Para este ejercicio, escribirás una lógica condicional que imprima una advertencia si un asteroide se acerca a la Tierra demasiado rápido. La velocidad del asteroide varía dependiendo de lo cerca que esté del sol, y cualquier velocidad superior a 25 kilómetros por segundo (km/s) merece una advertencia.\n",
    "\n",
    "Un asteroide se acerca, y viaja a una velocidad de 49 km/s."
   ]
  },
  {
   "cell_type": "code",
   "execution_count": 1,
   "metadata": {},
   "outputs": [
    {
     "name": "stdout",
     "output_type": "stream",
     "text": [
      "¡Alerta por asteroide! peligro inminente!!\n"
     ]
    }
   ],
   "source": [
    "ast= 49\n",
    "if ast > 25:\n",
    "    print(\"¡Alerta por asteroide! peligro inminente!!\")\n",
    "else:\n",
    "    print(\"Disfruten de su día sin asteroides!!\")\n",
    "\n"
   ]
  },
  {
   "cell_type": "markdown",
   "metadata": {},
   "source": [
    "## Ejercicio número 2\n",
    "\n",
    "Si un asteroide entra en la atmósfera de la Tierra a una velocidad mayor o igual a 20 km/s, a veces produce un rayo de luz que se puede ver desde la Tierra. Escribe la lógica condicional que usa declaraciones if, else, y elif para alertar a las personas de todo el mundo que deben buscar un asteroide en el cielo. ¡Hay uno que se dirige a la tierra ahora a una velocidad de 19 km/s!\n"
   ]
  },
  {
   "cell_type": "code",
   "execution_count": 6,
   "metadata": {},
   "outputs": [
    {
     "name": "stdout",
     "output_type": "stream",
     "text": [
      "Un día normal como cualquier otro.\n"
     ]
    }
   ],
   "source": [
    "ast = 19\n",
    "if ast == 20:\n",
    "     print(\"Deberías ver al cielo... tal vez veas luces interesantes el día de hoy!\")\n",
    "elif ast > 20:\n",
    "     print(\"Deberías ver al cielo... tal vez veas luces interesantes el día de hoy!\")\n",
    "else:\n",
    "     print(\"Un día normal como cualquier otro.\")"
   ]
  },
  {
   "cell_type": "markdown",
   "metadata": {},
   "source": [
    "## Ejercicio número 3\n",
    "\n",
    "Aquí está la nueva información que necesitas saber:\n",
    "\n",
    "*Los asteroides de menos de 25 metros en su dimensión más grande probablemente se quemarán a medida que entren en la atmósfera de la Tierra.\n",
    "\n",
    "    Si una pieza de un asteroide que es más grande que 25 metros pero más pequeña que 1000 metros golpeara la Tierra, causaría mucho daño.\n",
    "\n",
    "También discutimos en el ejercicio anterior que:\n",
    "\n",
    "    La velocidad del asteroide varía en función de lo cerca que esté del sol, y cualquier velocidad superior a 25 kilómetros por segundo (km/s) merece una advertencia.\n",
    "    Si un asteroide entra en la atmósfera de la Tierra a una velocidad mayor o igual a 20 km/s, a veces produce un rayo de luz que se puede ver desde la Tierra.\n"
   ]
  },
  {
   "cell_type": "code",
   "execution_count": 7,
   "metadata": {},
   "outputs": [
    {
     "name": "stdout",
     "output_type": "stream",
     "text": [
      "Deberías ver al cielo... tal vez veas luces interesantes el día de hoy!\n"
     ]
    }
   ],
   "source": [
    "tam_ast= 20\n",
    "vel_ast= 21\n",
    "if tam_ast>25 or vel_ast>25:\n",
    "    print(\"¡Alerta por asteroide! peligro inminente!!\")\n",
    "elif tam_ast <25 and vel_ast >=20:\n",
    "    print(\"Deberías ver al cielo... tal vez veas luces interesantes el día de hoy!\")\n",
    "else:\n",
    "    print(\"Un día normal como cualquier otro\")\n"
   ]
  }
 ],
 "metadata": {
  "interpreter": {
   "hash": "21e552788ae826081a56d3566a263f52ea6f4c128a10830506dfaced0e822406"
  },
  "kernelspec": {
   "display_name": "Python 3.10.2 64-bit",
   "language": "python",
   "name": "python3"
  },
  "language_info": {
   "codemirror_mode": {
    "name": "ipython",
    "version": 3
   },
   "file_extension": ".py",
   "mimetype": "text/x-python",
   "name": "python",
   "nbconvert_exporter": "python",
   "pygments_lexer": "ipython3",
   "version": "3.10.2"
  },
  "orig_nbformat": 4
 },
 "nbformat": 4,
 "nbformat_minor": 2
}
